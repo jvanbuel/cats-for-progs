{
 "cells": [
  {
   "cell_type": "code",
   "execution_count": 1,
   "metadata": {},
   "outputs": [],
   "source": [
    "import numpy as np\n",
    "import pandas as pd\n",
    "import seaborn as sn\n",
    "import matplotlib.pyplot as plt\n",
    "%config InlineBackend.figure_formats = ['svg'] # SVG plots are easier on the eye\n",
    "\n",
    "%matplotlib inline "
   ]
  },
  {
   "cell_type": "markdown",
   "metadata": {},
   "source": [
    "#### Define a memoize function, that mimics another function by calculating that function and then caching the result for later calls.\n",
    "Apparently such a construct, in which a function has some sort of 'memory' outside of its own function scope, is called a [closure](https://en.wikipedia.org/wiki/Closure_(computer_programming)) and is quite common in languages for which functions are first-class citizens (i.e. they can be passed around by other functions as arguments or return values)."
   ]
  },
  {
   "cell_type": "code",
   "execution_count": 2,
   "metadata": {},
   "outputs": [],
   "source": [
    "def memoize(f):\n",
    "    memory = {}\n",
    "    \n",
    "    def g(x):\n",
    "        if x in memory:\n",
    "            print(\"Found {} in memory!\".format(x))\n",
    "            return memory[x]\n",
    "        else:\n",
    "            print(\"Didn't find {} in memory, calculating it's function output now.\".format(x))\n",
    "            memory.update({x: f(x)})\n",
    "            return memory[x]\n",
    "        \n",
    "    return g"
   ]
  },
  {
   "cell_type": "code",
   "execution_count": 3,
   "metadata": {},
   "outputs": [],
   "source": [
    "def factorial(x):\n",
    "    \n",
    "    def factorial_acc(y, acc):\n",
    "        if y == 1:\n",
    "            return acc\n",
    "        else:\n",
    "            return factorial_acc(y-1,acc*y)\n",
    "        \n",
    "    return factorial_acc(x,1)\n"
   ]
  },
  {
   "cell_type": "markdown",
   "metadata": {},
   "source": [
    "Unfortunately, Python does is not optimized for tail recursion, meaning that the function stack keeps growing and hence at some point exceeds is maximum size (resulting in a `RecursionError`). There are ways to do it (see for example this [blog post](https://www.kylem.net/programming/tailcall.html)), but for now I'll leave it as it is."
   ]
  },
  {
   "cell_type": "code",
   "execution_count": 4,
   "metadata": {},
   "outputs": [],
   "source": [
    "memoize_fac = memoize(factorial)"
   ]
  },
  {
   "cell_type": "code",
   "execution_count": 5,
   "metadata": {},
   "outputs": [
    {
     "name": "stdout",
     "output_type": "stream",
     "text": [
      "Didn't find 2000 in memory, calculating it's function output now.\n",
      "CPU times: user 2.79 ms, sys: 1.4 ms, total: 4.19 ms\n",
      "Wall time: 4.18 ms\n"
     ]
    }
   ],
   "source": [
    "%time y = memoize_fac(2000)"
   ]
  },
  {
   "cell_type": "code",
   "execution_count": 6,
   "metadata": {},
   "outputs": [
    {
     "name": "stdout",
     "output_type": "stream",
     "text": [
      "Found 2000 in memory!\n",
      "CPU times: user 171 µs, sys: 60 µs, total: 231 µs\n",
      "Wall time: 214 µs\n"
     ]
    }
   ],
   "source": [
    "%time y = memoize_fac(2000)"
   ]
  },
  {
   "cell_type": "markdown",
   "metadata": {},
   "source": [
    "**As we can see, their is a more than 10-fold reduction in computing time**"
   ]
  },
  {
   "cell_type": "markdown",
   "metadata": {},
   "source": [
    "Let's try to do the same for a random number generator."
   ]
  },
  {
   "cell_type": "code",
   "execution_count": 16,
   "metadata": {},
   "outputs": [],
   "source": [
    "import random"
   ]
  },
  {
   "cell_type": "code",
   "execution_count": 18,
   "metadata": {},
   "outputs": [
    {
     "data": {
      "text/plain": [
       "0.27502931836911926"
      ]
     },
     "execution_count": 18,
     "metadata": {},
     "output_type": "execute_result"
    }
   ],
   "source": [
    "random.random()"
   ]
  },
  {
   "cell_type": "code",
   "execution_count": 19,
   "metadata": {},
   "outputs": [],
   "source": [
    "memoize_rand = memoize(random.random)"
   ]
  },
  {
   "cell_type": "code",
   "execution_count": 39,
   "metadata": {},
   "outputs": [
    {
     "ename": "TypeError",
     "evalue": "g() missing 1 required positional argument: 'x'",
     "output_type": "error",
     "traceback": [
      "\u001b[0;31m---------------------------------------------------------------------------\u001b[0m",
      "\u001b[0;31mTypeError\u001b[0m                                 Traceback (most recent call last)",
      "\u001b[0;32m<ipython-input-39-aa3252134eae>\u001b[0m in \u001b[0;36m<module>\u001b[0;34m\u001b[0m\n\u001b[0;32m----> 1\u001b[0;31m \u001b[0mmemoize_rand\u001b[0m\u001b[0;34m(\u001b[0m\u001b[0;34m)\u001b[0m\u001b[0;34m\u001b[0m\u001b[0;34m\u001b[0m\u001b[0m\n\u001b[0m",
      "\u001b[0;31mTypeError\u001b[0m: g() missing 1 required positional argument: 'x'"
     ]
    }
   ],
   "source": [
    "memoize_rand()"
   ]
  },
  {
   "cell_type": "code",
   "execution_count": 23,
   "metadata": {},
   "outputs": [],
   "source": [
    "def random_generator(seed):\n",
    "    random.seed(seed)\n",
    "    return random.random()"
   ]
  },
  {
   "cell_type": "code",
   "execution_count": 24,
   "metadata": {},
   "outputs": [],
   "source": [
    "memoize_rand2 = memoize(random_generator)"
   ]
  },
  {
   "cell_type": "code",
   "execution_count": 28,
   "metadata": {},
   "outputs": [
    {
     "name": "stdout",
     "output_type": "stream",
     "text": [
      "Didn't find 3003267100 in memory, calculating it's function output now.\n",
      "CPU times: user 204 µs, sys: 90 µs, total: 294 µs\n",
      "Wall time: 253 µs\n"
     ]
    },
    {
     "data": {
      "text/plain": [
       "0.13439901158460787"
      ]
     },
     "execution_count": 28,
     "metadata": {},
     "output_type": "execute_result"
    }
   ],
   "source": [
    "%time memoize_rand2(3003267100)"
   ]
  },
  {
   "cell_type": "code",
   "execution_count": 38,
   "metadata": {},
   "outputs": [
    {
     "name": "stdout",
     "output_type": "stream",
     "text": [
      "Found 3003267100 in memory!\n",
      "CPU times: user 129 µs, sys: 54 µs, total: 183 µs\n",
      "Wall time: 157 µs\n"
     ]
    },
    {
     "data": {
      "text/plain": [
       "0.13439901158460787"
      ]
     },
     "execution_count": 38,
     "metadata": {},
     "output_type": "execute_result"
    }
   ],
   "source": [
    "%time memoize_rand2(3003267100)"
   ]
  },
  {
   "cell_type": "code",
   "execution_count": null,
   "metadata": {},
   "outputs": [],
   "source": []
  }
 ],
 "metadata": {
  "kernelspec": {
   "display_name": "Python 3",
   "language": "python",
   "name": "python3"
  },
  "language_info": {
   "codemirror_mode": {
    "name": "ipython",
    "version": 3
   },
   "file_extension": ".py",
   "mimetype": "text/x-python",
   "name": "python",
   "nbconvert_exporter": "python",
   "pygments_lexer": "ipython3",
   "version": "3.7.6"
  }
 },
 "nbformat": 4,
 "nbformat_minor": 4
}
