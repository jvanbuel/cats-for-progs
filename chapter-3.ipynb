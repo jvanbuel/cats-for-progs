{
 "cells": [
  {
   "cell_type": "code",
   "execution_count": 1,
   "metadata": {},
   "outputs": [],
   "source": [
    "import numpy as np\n",
    "import pandas as pd\n",
    "import seaborn as sn\n",
    "import matplotlib.pyplot as plt\n",
    "%config InlineBackend.figure_formats = ['svg'] # SVG plots are easier on the eye\n",
    "\n",
    "%matplotlib inline "
   ]
  },
  {
   "cell_type": "markdown",
   "metadata": {},
   "source": [
    "#### Notes:\n",
    "On p.22, it is mentioned that sorting algorithms (quicksort, bubble sort, merg sort, etc.) require a total order, i.e. all objects in the set have an order relation with each other and $a = b$ iff $a \\leq b$ and $b \\leq a$. The author also mentions that for partially ordered sets, there exists topological sorting algorithms. I guess this means an algorithm to sort a list of different types? To sort for example a list containing more than one type: see for example [this website](https://www.geeksforgeeks.org/python-program-for-topological-sorting/)."
   ]
  },
  {
   "cell_type": "code",
   "execution_count": null,
   "metadata": {},
   "outputs": [],
   "source": []
  }
 ],
 "metadata": {
  "kernelspec": {
   "display_name": "Python 3",
   "language": "python",
   "name": "python3"
  },
  "language_info": {
   "codemirror_mode": {
    "name": "ipython",
    "version": 3
   },
   "file_extension": ".py",
   "mimetype": "text/x-python",
   "name": "python",
   "nbconvert_exporter": "python",
   "pygments_lexer": "ipython3",
   "version": "3.7.6"
  }
 },
 "nbformat": 4,
 "nbformat_minor": 4
}
