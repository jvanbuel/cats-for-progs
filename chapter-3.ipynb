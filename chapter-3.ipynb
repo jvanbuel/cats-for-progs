{
 "cells": [
  {
   "cell_type": "markdown",
   "metadata": {},
   "source": [
    "#### Notes:\n",
    "On p.22, it is mentioned that sorting algorithms (quicksort, bubble sort, merg sort, etc.) require a total order, i.e. all objects in the set have an order relation with each other and $a = b$ iff $a \\leq b$ and $b \\leq a$. The author also mentions that for partially ordered sets, there exists topological sorting algorithms: see for example [this website](https://www.geeksforgeeks.org/python-program-for-topological-sorting/)."
   ]
  },
  {
   "cell_type": "markdown",
   "metadata": {},
   "source": [
    "In the problem set, we are asked to generate free categories from a few simple graphs. For single node graphs, the resulting free category is also known as a [Kleene Star](https://en.wikipedia.org/wiki/Free_monoid) of an alphabet $A$, with $A$ being the set of minimal (i.e. uncomposed) edges. "
   ]
  },
  {
   "cell_type": "markdown",
   "metadata": {},
   "source": [
    "The Boolean set $\\{ True, False\\}$ is a set-theoretic monoid with respect to both the $AND$ and $OR$ operators. Both operators are obviously associative. For $AND$, the neutral element is $True$, for $OR$, the neutral element is $False$."
   ]
  },
  {
   "cell_type": "markdown",
   "metadata": {},
   "source": [
    "#### Implementing a monoid (see ref. [blog](https://andrewdblevins.github.io/Monoids/))"
   ]
  },
  {
   "cell_type": "code",
   "execution_count": 1,
   "metadata": {},
   "outputs": [],
   "source": [
    "class Monoid:\n",
    "    def __init__(self, null, operation):\n",
    "        self.null = null\n",
    "        self.operation   = operation\n",
    "\n",
    "    def __call__(self, *args):\n",
    "        result = self.null\n",
    "        for arg in args:\n",
    "            result = self.operation(result, arg)\n",
    "        return result"
   ]
  },
  {
   "cell_type": "code",
   "execution_count": 2,
   "metadata": {},
   "outputs": [],
   "source": [
    "mod3_monoid = Monoid(0, lambda x,y: (x+y)%3)"
   ]
  },
  {
   "cell_type": "code",
   "execution_count": 3,
   "metadata": {},
   "outputs": [
    {
     "data": {
      "text/plain": [
       "2"
      ]
     },
     "execution_count": 3,
     "metadata": {},
     "output_type": "execute_result"
    }
   ],
   "source": [
    "mod3_monoid(5, 7, 11, 12)"
   ]
  },
  {
   "cell_type": "markdown",
   "metadata": {},
   "source": [
    "The article linked above also gives a great motivation as to the usefulness of monoids in Big Data: if the objects and morphisms you want to make use of in your calculation are a monoid category, it is easy to distribute the calculation and run it in parallel. Many calculations used in Big Data are clearly monoids, such as counting, finding a min/max, but also less simple calculations can be transformed into a monoid structure (mean, variance, skewness, ...)."
   ]
  },
  {
   "cell_type": "markdown",
   "metadata": {},
   "source": [
    "Note that the implemenation of the monoid class above, i.e. with a `__call__` method, turns an object of the class effectively into a function. This is an alternative way to give a function a 'memory' or 'state', in addition to the closures we saw in chapter 2. "
   ]
  },
  {
   "cell_type": "code",
   "execution_count": null,
   "metadata": {},
   "outputs": [],
   "source": []
  }
 ],
 "metadata": {
  "kernelspec": {
   "display_name": "Python 3",
   "language": "python",
   "name": "python3"
  },
  "language_info": {
   "codemirror_mode": {
    "name": "ipython",
    "version": 3
   },
   "file_extension": ".py",
   "mimetype": "text/x-python",
   "name": "python",
   "nbconvert_exporter": "python",
   "pygments_lexer": "ipython3",
   "version": "3.7.6"
  }
 },
 "nbformat": 4,
 "nbformat_minor": 4
}
